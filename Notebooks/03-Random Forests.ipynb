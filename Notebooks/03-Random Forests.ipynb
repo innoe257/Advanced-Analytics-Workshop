{
 "cells": [
  {
   "cell_type": "markdown",
   "metadata": {},
   "source": [
    "# Random Forests\n",
    "\n",
    "Innocent Mamvura (innocent.mamvura@wits.ac.za)<br>\n",
    "Data Scientist <br>\n",
    "[Wits University](https://www.wits.ac.za//)\n",
    "\n",
    "\n",
    "Random forests is a supervised learning algorithm. It can be used both for classification and regression.Random forests creates decision trees on randomly selected data samples, gets prediction from each tree and selects the best solution by means of voting. It also provides a pretty good indicator of the feature importance.\n",
    "\n",
    "Random forest classifier creates a set of decision trees from randomly selected subset of training set. It then aggregates the votes from different decision trees to decide the final class of the test object.\n",
    "\n",
    "![](https://miro.medium.com/max/592/1*i0o8mjFfCn-uD79-F1Cqkw.png)"
   ]
  },
  {
   "cell_type": "markdown",
   "metadata": {},
   "source": [
    "# How does the algorithm work?\n",
    "\n",
    "It works in four steps:\n",
    "\n",
    "    1.Select random samples from a given dataset.\n",
    "    2.Construct a decision tree for each sample and get prediction result from each decision tree.\n",
    "    3.Perform a vote for each predicted result.\n",
    "    4.Select the prediction result with the most votes as the final prediction.\n"
   ]
  },
  {
   "cell_type": "markdown",
   "metadata": {},
   "source": [
    "![](http://res.cloudinary.com/dyd911kmh/image/upload/f_auto,q_auto:best/v1526467744/voting_dnjweq.jpg)\n"
   ]
  },
  {
   "cell_type": "markdown",
   "metadata": {},
   "source": [
    "# Determining the number of nodes"
   ]
  },
  {
   "cell_type": "markdown",
   "metadata": {},
   "source": [
    "The formula used to decide how nodes on a decision tree branch,uses the class and probability to determine the Gini of each branch on a node, determining which of the branches is more likely to occur. Here, pi represents the relative frequency of the class you are observing in the dataset and c represents the number of classes\n",
    "\n",
    "![](https://miro.medium.com/max/600/0*1tJPwaiquFFqhH7t)\n",
    "\n",
    "\n",
    "Entropy uses the probability of a certain outcome in order to make a decision on how the node should branch.\n",
    "\n",
    "![](https://miro.medium.com/max/892/0*SrIYs2sSoHfG1oTK)\n"
   ]
  },
  {
   "cell_type": "markdown",
   "metadata": {},
   "source": [
    "# Evaluation Metrics\n"
   ]
  },
  {
   "attachments": {},
   "cell_type": "markdown",
   "metadata": {},
   "source": [
    "# ROC Curve Explained\n",
    "\n",
    "    1.ROC curves typically feature signal(true positive rate) on the Y axis, and noise(false positive rate) on the X axis.\n",
    "    2.To create this, probability distribution, we plot a Gaussian distribution with different mean values for each class.\n",
    "    3.The true positive rate is calculated as the number of true positives divided by the sum of the number of true positives and the number of false negatives. It describes how good the model is at predicting the positive class when the actual outcome is positive.\n",
    "    4.The false positive rate is calculated as the number of false positives divided by the sum of the number of false positives and the number of true negatives.\n",
    "    \n",
    " ![](https://www.researchgate.net/profile/Brian_Klinkenberg/publication/237866633/figure/fig8/AS:298977355419652@1448293164452/Receiver-Operating-Characteristic-ROC-curve.png)\n",
    " \n",
    " \n",
    "    A skilful model will assign a higher probability to a randomly chosen real positive occurrence than a negative occurrence on average.\n",
    "    A model with no skill is represented at the point [0.5, 0.5]. A model with no skill at each threshold is represented by a diagonal line from the bottom left of the plot to the top right and has an AUC of 0.5.\n",
    "    A model with perfect skill is represented at a point [0.0 ,1.0]. A model with perfect skill is represented by a line that travels from the bottom left of the plot to the top left and then across the top to the top right.\n",
    "  \n",
    "    \n",
    "   # Precision/Recall\n",
    "    \n",
    "    Precision/Specificity: how many selected instances are relevant. \n",
    "     Recall/Sensitivity: how many relevant instances are selected. \n",
    "     F1 score: harmonic mean of precision and recall. \n",
    "     MCC: correlation coefficient between the observed and predicted binary classifications. \n",
    "     AUC: relation between true-positive rate and false positive rate. "
   ]
  },
  {
   "cell_type": "markdown",
   "metadata": {},
   "source": [
    "# Bias and Variance"
   ]
  },
  {
   "cell_type": "markdown",
   "metadata": {},
   "source": [
    "#Bias error is the overall difference between expected predictions made by the model and true values.\n",
    "#Variance error describes how much predictions for the given point vary.\n"
   ]
  },
  {
   "cell_type": "markdown",
   "metadata": {},
   "source": [
    "# Confusion Matrix"
   ]
  },
  {
   "cell_type": "markdown",
   "metadata": {},
   "source": [
    "![](https://i.stack.imgur.com/OW5Lt.jpg)"
   ]
  }
 ],
 "metadata": {
  "kernelspec": {
   "display_name": "Python 3",
   "language": "python",
   "name": "python3"
  },
  "language_info": {
   "codemirror_mode": {
    "name": "ipython",
    "version": 3
   },
   "file_extension": ".py",
   "mimetype": "text/x-python",
   "name": "python",
   "nbconvert_exporter": "python",
   "pygments_lexer": "ipython3",
   "version": "3.5.6"
  }
 },
 "nbformat": 4,
 "nbformat_minor": 2
}
