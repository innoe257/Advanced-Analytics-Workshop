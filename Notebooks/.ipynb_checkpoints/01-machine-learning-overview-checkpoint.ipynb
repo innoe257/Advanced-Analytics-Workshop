{
 "cells": [
  {
   "cell_type": "markdown",
   "metadata": {
    "colab_type": "text",
    "id": "emV9xDyqpSHb"
   },
   "source": [
    "\n",
    "\n",
    "# Machine Learning Overview\n",
    "\n",
    "Innocent Mamvura (innocent.mamvura@wits.ac.za)<br>\n",
    "Data Scientist <br>\n",
    "[Wits University](https://www.wits.ac.za//)\n",
    "\n",
    "Machine Learning is the science of getting computers to learn and act like humans do, and improve their learning over time in autonomous fashion, by feeding them data and information in the form of observations and real-world interactions.\n",
    "\n",
    "Artificial Intelligence is the ability of a digital computer or computer-controlled robot to perform tasks commonly associated with intelligent beings.\n",
    "\n",
    "Fourth Industrial Revolution- is the current and developing environment in which disruptive technologies and trends such as the Internet of Things (IoT), robotics, virtual reality (VR) and artificial intelligence (AI) are changing the way we live and work.\n",
    "\n",
    "The goal of Machine Learning is to solve problems which humans handle intuitively, but are very challenging for computers. For example, interpreting and\n",
    "understanding the contents of an image is something that humans can do with little effort, but is challenging for a computer."
   ]
  },
  {
   "cell_type": "code",
   "execution_count": 1,
   "metadata": {
    "colab": {},
    "colab_type": "code",
    "id": "P_iAsNEDxFw9"
   },
   "outputs": [],
   "source": [
    "import numpy as np\n",
    "import pandas as pd\n",
    "from sklearn import model_selection, tree, metrics\n",
    "\n",
    "import matplotlib.pyplot as plt\n",
    "plt.rcParams['figure.figsize'] = [10, 5]"
   ]
  },
  {
   "cell_type": "code",
   "execution_count": 6,
   "metadata": {
    "colab": {
     "base_uri": "https://localhost:8080/",
     "height": 33
    },
    "colab_type": "code",
    "executionInfo": {
     "elapsed": 6817,
     "status": "ok",
     "timestamp": 1570532248335,
     "user": {
      "displayName": "Andrew Collier",
      "photoUrl": "https://lh3.googleusercontent.com/a-/AAuE7mCvrDr9ggh2JX2LPB-tW5bxoI6EprrLY52Q6BnN=s64",
      "userId": "07683598884238397219"
     },
     "user_tz": -120
    },
    "id": "5W82oLOu74RU",
    "outputId": "17ae3604-1c10-4c06-9680-09664253536c"
   },
   "outputs": [],
   "source": [
    "try:\n",
    "  %tensorflow_version 2.x\n",
    "except Exception:\n",
    "  pass\n",
    "\n",
    "import tensorflow as tf"
   ]
  },
  {
   "cell_type": "markdown",
   "metadata": {
    "colab_type": "text",
    "id": "YSDQOiI9fw4s"
   },
   "source": [
    "## Terminology\n",
    "\n",
    "A good place to start is by defining some terminology.\n",
    "\n",
    "![](https://s29093.pcdn.co/wp-content/uploads/2018/09/AI-Terminology-Header.png)\n"
   ]
  },
  {
   "cell_type": "markdown",
   "metadata": {
    "colab_type": "text",
    "id": "f9xaIvBD5fl_"
   },
   "source": [
    "### Data\n",
    "\n",
    "**Observations** &mdash; Each distinct record in the dataset is an *observation* (or *sample*). These are the *rows* in the data.\n",
    "\n",
    "**Features** &mdash; Each observation will consist of one or more *features* (or *fields*). These are the *columns* in the data.\n",
    "\n",
    "**Labels** &mdash; A label is often assigned to each observations. This is generally what you'll be aiming to predict.\n",
    "\n",
    "**Feature Engineering** &mdash; The process of generating new features by applying transformations to one or more of the existing features. This can be a very powerful approach to improving a model. Successful feature engineering generally depends on some *domain knowledge*."
   ]
  },
  {
   "cell_type": "markdown",
   "metadata": {
    "colab_type": "text",
    "id": "ZF5_W3vXXd7w"
   },
   "source": [
    "### Models\n",
    "\n",
    "**Model** &mdash; A statistical or mathematical model is a tool for understanding the way that things work. Normally the model is fit to observational data.\n",
    "\n",
    "> All models are wrong but some are useful.\n",
    ">\n",
    "> &mdash; [George Box](https://en.wikipedia.org/wiki/George_E._P._Box)\n",
    "\n",
    "*Example:* A (simple) model for predicting tomorrow's midday temperature might simply be to use today's midday temperature.\n",
    "\n",
    "**Model parameters** &mdash; A model will generally have one or more parameters which are extracted from the data. These parameters represent the \"knowledge\" which is distilled from the data.\n",
    "\n",
    "*Example:* We could make our midday temperature model slightly more sophisticated by including the rate at which midday temperature is changing. We could use observations for the last few days to calculate the rate of change (in °C per day) and then use this to generate a slightly more robust prediction. The rate of change would be the model parameter since it would be calculated from observations.\n",
    "\n",
    "**Overfitting & Underfitting** &mdash; Depending on the flexibility of the model it's possible to either overfit or underfit the data.\n",
    "\n",
    "If a model is inflexible (few parameters) then it will not be able to faithfully describe the \"information\" embodied in the data.\n",
    "\n",
    "At the oppositve extreme, if a model is too flexible (many parameters) then it will fit the \"noise\" in the data rather than the \"signal\".\n",
    "\n",
    "![](https://github.com/datawookie/useful-images/raw/master/over-under-fitting.png)\n",
    "\n",
    "**Model hyper-parameters** &mdash; A model will often have one or more hyper-parameters. These determine the way that the model will learn from the data.\n",
    "\n",
    "*Example:* Our improved midday temperature model now uses observations from the last few days to calculate the rate of change. But how many is a \"few\"? The number of days used to calculate the rate of change would be a model hyper-parameter."
   ]
  },
  {
   "cell_type": "markdown",
   "metadata": {
    "colab_type": "text",
    "id": "6WGAxQlVnn8N"
   },
   "source": [
    "### Algorithms\n",
    "\n",
    "![](https://raw.githack.com/datawookie/useful-images/master/supervised-versus-unsupervised.svg)\n",
    "\n",
    "**Supervised Learning** &mdash; The algorithm is given both the features and the labels. It tries to learn how to predict the labels using the features.\n",
    "\n",
    "**Unsupervised Learning** &mdash; The algorithm is given the features and must find structure. There is not *a priori* \"right answer\"."
   ]
  },
  {
   "cell_type": "markdown",
   "metadata": {
    "colab_type": "text",
    "id": "k1ZtLA845Ur1"
   },
   "source": [
    "### Training & Testing\n",
    "\n",
    "These are generally the steps in building a Machine Learning model:\n",
    "\n",
    "1. Load and clean data.\n",
    "2. Explore the data and generate hypotheses.\n",
    "3. Define a model.\n",
    "4. Train (and validate) the model.\n",
    "5. Test the model.\n",
    "\n",
    "**Training** &mdash; Training is the process by which a model extracts information from the data. It's literally *learning* from the data.\n",
    "\n",
    "**Testing** &mdash; Once a model has been trained it should be tested to evaluate how well it will perform on unseen data.\n",
    "\n",
    "**Train/test split** &mdash; In order to objectively assess a model it's important to separate the data into two sets: a *training* set and a *testing* set. The model will then the trained on the former and tested on the latter.\n",
    "\n",
    "<img src=\"https://raw.githack.com/datawookie/useful-images/master/data-train-test.svg\" width=\"50%\">"
   ]
  },
  {
   "cell_type": "markdown",
   "metadata": {
    "colab_type": "text",
    "id": "nEOmGTOIwNUp"
   },
   "source": [
    "### Nuts & Bolts\n",
    "\n",
    "**Random numbers** &mdash; The \"random\" numbers generated by a computer's [Random Number Generator](https://en.wikipedia.org/wiki/Random_number_generation) (RNG) are not really random at all. They are created using a completely deterministic (although fairly complicated) algorithm. For repeatability it can be useful to set the *random number seed*. This will ensure that you get the *same* stream of \"random\" numbers each time.\n",
    "\n",
    "Everybody should get a different set of random numbers for the following."
   ]
  },
  {
   "cell_type": "code",
   "execution_count": 3,
   "metadata": {
    "colab": {
     "base_uri": "https://localhost:8080/",
     "height": 66
    },
    "colab_type": "code",
    "executionInfo": {
     "elapsed": 6805,
     "status": "ok",
     "timestamp": 1570532248336,
     "user": {
      "displayName": "Andrew Collier",
      "photoUrl": "https://lh3.googleusercontent.com/a-/AAuE7mCvrDr9ggh2JX2LPB-tW5bxoI6EprrLY52Q6BnN=s64",
      "userId": "07683598884238397219"
     },
     "user_tz": -120
    },
    "id": "gqmskv6wyAM4",
    "outputId": "d5bd9e06-d851-449c-e068-8e695351fc33"
   },
   "outputs": [
    {
     "data": {
      "text/plain": [
       "array([[ 0.40630736,  0.21165799, -1.55046377],\n",
       "       [ 0.30044089,  1.30022705,  0.29633767],\n",
       "       [ 0.4810545 , -2.46574063, -0.13817246]])"
      ]
     },
     "execution_count": 3,
     "metadata": {},
     "output_type": "execute_result"
    }
   ],
   "source": [
    "np.random.normal(size=[3, 3])"
   ]
  },
  {
   "cell_type": "markdown",
   "metadata": {
    "colab_type": "text",
    "id": "V90Gxz7xSqP9"
   },
   "source": [
    "## Building a Model\n",
    "\n",
    "We're going to build a simple Machine Learning model to classify sausages according to the their calory and salt content.\n",
    "\n",
    "![](data:image/jpeg;base64,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)\n",
    "\n",
    "First let's load the data."
   ]
  },
  {
   "cell_type": "code",
   "execution_count": 44,
   "metadata": {
    "colab": {},
    "colab_type": "code",
    "id": "93dzIw4q0dyw"
   },
   "outputs": [],
   "source": [
    "sausage = pd.read_csv('https://raw.githubusercontent.com/datawookie/data-diaspora/master/sausage.csv', comment=\"#\")"
   ]
  },
  {
   "cell_type": "markdown",
   "metadata": {
    "colab_type": "text",
    "id": "PyyKkYxpTbah"
   },
   "source": [
    "What's the data type?"
   ]
  },
  {
   "cell_type": "code",
   "execution_count": 9,
   "metadata": {
    "colab": {
     "base_uri": "https://localhost:8080/",
     "height": 33
    },
    "colab_type": "code",
    "executionInfo": {
     "elapsed": 6703,
     "status": "ok",
     "timestamp": 1570532248342,
     "user": {
      "displayName": "Andrew Collier",
      "photoUrl": "https://lh3.googleusercontent.com/a-/AAuE7mCvrDr9ggh2JX2LPB-tW5bxoI6EprrLY52Q6BnN=s64",
      "userId": "07683598884238397219"
     },
     "user_tz": -120
    },
    "id": "pipg5JbfTcG6",
    "outputId": "4f4c18c2-2c8e-48a8-bc77-57b47fe3f509"
   },
   "outputs": [
    {
     "data": {
      "text/plain": [
       "pandas.core.frame.DataFrame"
      ]
     },
     "execution_count": 9,
     "metadata": {},
     "output_type": "execute_result"
    }
   ],
   "source": [
    "type(sausage)"
   ]
  },
  {
   "cell_type": "markdown",
   "metadata": {
    "colab_type": "text",
    "id": "PalZEGomTY6q"
   },
   "source": [
    "A `DataFrame` is the structure used to store tabular data in Pandas. We can take a quick look at the shape of the sausage data."
   ]
  },
  {
   "cell_type": "code",
   "execution_count": 10,
   "metadata": {
    "colab": {
     "base_uri": "https://localhost:8080/",
     "height": 33
    },
    "colab_type": "code",
    "executionInfo": {
     "elapsed": 6657,
     "status": "ok",
     "timestamp": 1570532248343,
     "user": {
      "displayName": "Andrew Collier",
      "photoUrl": "https://lh3.googleusercontent.com/a-/AAuE7mCvrDr9ggh2JX2LPB-tW5bxoI6EprrLY52Q6BnN=s64",
      "userId": "07683598884238397219"
     },
     "user_tz": -120
    },
    "id": "GH-GqcVB2sxn",
    "outputId": "f82fd89d-5e8a-43cc-d3ed-21bdf46cb3b9"
   },
   "outputs": [
    {
     "data": {
      "text/plain": [
       "(54, 3)"
      ]
     },
     "execution_count": 10,
     "metadata": {},
     "output_type": "execute_result"
    }
   ],
   "source": [
    "sausage.shape"
   ]
  },
  {
   "cell_type": "markdown",
   "metadata": {
    "colab_type": "text",
    "id": "7lM0XL0qTpR4"
   },
   "source": [
    "It has 54 rows and 3 columns. Let's take a look at the first few rows."
   ]
  },
  {
   "cell_type": "code",
   "execution_count": 12,
   "metadata": {
    "colab": {
     "base_uri": "https://localhost:8080/",
     "height": 197
    },
    "colab_type": "code",
    "executionInfo": {
     "elapsed": 6610,
     "status": "ok",
     "timestamp": 1570532248344,
     "user": {
      "displayName": "Andrew Collier",
      "photoUrl": "https://lh3.googleusercontent.com/a-/AAuE7mCvrDr9ggh2JX2LPB-tW5bxoI6EprrLY52Q6BnN=s64",
      "userId": "07683598884238397219"
     },
     "user_tz": -120
    },
    "id": "lP5O456i1PI4",
    "outputId": "641ad60f-a945-4c24-cf29-b0e1b66eb7d3"
   },
   "outputs": [
    {
     "data": {
      "text/html": [
       "<div>\n",
       "<style scoped>\n",
       "    .dataframe tbody tr th:only-of-type {\n",
       "        vertical-align: middle;\n",
       "    }\n",
       "\n",
       "    .dataframe tbody tr th {\n",
       "        vertical-align: top;\n",
       "    }\n",
       "\n",
       "    .dataframe thead th {\n",
       "        text-align: right;\n",
       "    }\n",
       "</style>\n",
       "<table border=\"1\" class=\"dataframe\">\n",
       "  <thead>\n",
       "    <tr style=\"text-align: right;\">\n",
       "      <th></th>\n",
       "      <th>type</th>\n",
       "      <th>calories</th>\n",
       "      <th>sodium</th>\n",
       "    </tr>\n",
       "  </thead>\n",
       "  <tbody>\n",
       "    <tr>\n",
       "      <th>0</th>\n",
       "      <td>beef</td>\n",
       "      <td>186</td>\n",
       "      <td>495</td>\n",
       "    </tr>\n",
       "    <tr>\n",
       "      <th>1</th>\n",
       "      <td>beef</td>\n",
       "      <td>181</td>\n",
       "      <td>477</td>\n",
       "    </tr>\n",
       "    <tr>\n",
       "      <th>2</th>\n",
       "      <td>beef</td>\n",
       "      <td>176</td>\n",
       "      <td>425</td>\n",
       "    </tr>\n",
       "    <tr>\n",
       "      <th>3</th>\n",
       "      <td>beef</td>\n",
       "      <td>149</td>\n",
       "      <td>322</td>\n",
       "    </tr>\n",
       "    <tr>\n",
       "      <th>4</th>\n",
       "      <td>beef</td>\n",
       "      <td>184</td>\n",
       "      <td>482</td>\n",
       "    </tr>\n",
       "  </tbody>\n",
       "</table>\n",
       "</div>"
      ],
      "text/plain": [
       "   type  calories  sodium\n",
       "0  beef       186     495\n",
       "1  beef       181     477\n",
       "2  beef       176     425\n",
       "3  beef       149     322\n",
       "4  beef       184     482"
      ]
     },
     "execution_count": 12,
     "metadata": {},
     "output_type": "execute_result"
    }
   ],
   "source": [
    "sausage.head()"
   ]
  },
  {
   "cell_type": "markdown",
   "metadata": {
    "colab_type": "text",
    "id": "STJtWenv1oJO"
   },
   "source": [
    "To feed these data into a Machine Learning model we need to first split it into features, `X`, and labels, `y`."
   ]
  },
  {
   "cell_type": "code",
   "execution_count": 45,
   "metadata": {
    "colab": {},
    "colab_type": "code",
    "id": "Eey2Jx4Y1jJj"
   },
   "outputs": [],
   "source": [
    "X = sausage.values[:, 1:3]\n",
    "y = sausage.values[:, 0]"
   ]
  },
  {
   "cell_type": "markdown",
   "metadata": {
    "colab_type": "text",
    "id": "h7boq_CZTTnU"
   },
   "source": [
    "Now split those into training and testing sets. This split will be done at random. Note that you can also specify a `random_state` here to ensure that this operation is repeatable."
   ]
  },
  {
   "cell_type": "code",
   "execution_count": 47,
   "metadata": {
    "colab": {},
    "colab_type": "code",
    "id": "GyS37dM31dPW"
   },
   "outputs": [],
   "source": [
    "X_train, X_test, y_train, y_test = model_selection.train_test_split(X, y, test_size=0.2, random_state=13)"
   ]
  },
  {
   "cell_type": "markdown",
   "metadata": {
    "colab_type": "text",
    "id": "9RYuU_DDT_l6"
   },
   "source": [
    "### Decision Tree\n",
    "\n",
    "Now we'll build a simple [Decision Tree](https://en.wikipedia.org/wiki/Decision_tree) model. Create a `DecisionTreeClassifier` object and limit the depth of the tree to two splits. The maximum tree depth, specified by the `max_depth` parameter, is a model hyper-parameter."
   ]
  },
  {
   "cell_type": "code",
   "execution_count": 48,
   "metadata": {
    "colab": {},
    "colab_type": "code",
    "id": "DTVJHBeJ7Du_"
   },
   "outputs": [],
   "source": [
    "sausage_tree= tree.DecisionTreeClassifier(max_depth=2, random_state=17)"
   ]
  },
  {
   "cell_type": "markdown",
   "metadata": {
    "colab_type": "text",
    "id": "ZKvBWNbJXXmS"
   },
   "source": [
    "Now fit the model to the training set."
   ]
  },
  {
   "cell_type": "code",
   "execution_count": 49,
   "metadata": {
    "colab": {},
    "colab_type": "code",
    "id": "qmZ8RUY47DvF"
   },
   "outputs": [],
   "source": [
    "sausage_tree.fit(X_train, y_train);"
   ]
  },
  {
   "cell_type": "markdown",
   "metadata": {
    "colab_type": "text",
    "id": "pxBE_-ybXDoT"
   },
   "source": [
    "Let's check on the order of the target classes."
   ]
  },
  {
   "cell_type": "code",
   "execution_count": 50,
   "metadata": {
    "colab": {
     "base_uri": "https://localhost:8080/",
     "height": 33
    },
    "colab_type": "code",
    "executionInfo": {
     "elapsed": 6388,
     "status": "ok",
     "timestamp": 1570532248348,
     "user": {
      "displayName": "Andrew Collier",
      "photoUrl": "https://lh3.googleusercontent.com/a-/AAuE7mCvrDr9ggh2JX2LPB-tW5bxoI6EprrLY52Q6BnN=s64",
      "userId": "07683598884238397219"
     },
     "user_tz": -120
    },
    "id": "b1lUbHKxW_Ir",
    "outputId": "8ef47e83-05ce-4509-97a9-9e026d197ee6"
   },
   "outputs": [
    {
     "data": {
      "text/plain": [
       "array(['beef', 'pork', 'poultry'], dtype=object)"
      ]
     },
     "execution_count": 50,
     "metadata": {},
     "output_type": "execute_result"
    }
   ],
   "source": [
    "sausage_tree.classes_"
   ]
  },
  {
   "cell_type": "markdown",
   "metadata": {
    "colab_type": "text",
    "id": "R4OPKUvJXHMM"
   },
   "source": [
    "Now we can take a look at the tree. The final line in each node gives the proportion of each of the target classes in the order above.\n",
    "\n",
    "For this plot to make sense, it's important to remember that:\n",
    "\n",
    "- `X[0]` &mdash; calories; and\n",
    "- `X[1]` &mdash; sodium."
   ]
  },
  {
   "cell_type": "code",
   "execution_count": 51,
   "metadata": {},
   "outputs": [],
   "source": [
    "from sklearn.externals.six import StringIO  \n",
    "from IPython.display import Image  \n",
    "from sklearn.tree import export_graphviz\n",
    "import pydotplus"
   ]
  },
  {
   "cell_type": "code",
   "execution_count": 52,
   "metadata": {},
   "outputs": [],
   "source": [
    "dot_data = StringIO()"
   ]
  },
  {
   "cell_type": "code",
   "execution_count": 54,
   "metadata": {},
   "outputs": [],
   "source": [
    "export_graphviz(sausage_tree, out_file=dot_data,  \n",
    "                filled=True, rounded=True,\n",
    "                special_characters=True)"
   ]
  },
  {
   "cell_type": "code",
   "execution_count": 55,
   "metadata": {},
   "outputs": [
    {
     "data": {
      "image/png": "[encoded data removed]",
      "text/plain": [
       "<IPython.core.display.Image object>"
      ]
     },
     "execution_count": 55,
     "metadata": {},
     "output_type": "execute_result"
    }
   ],
   "source": [
    "graph = pydotplus.graph_from_dot_data(dot_data.getvalue())  \n",
    "Image(graph.create_png())"
   ]
  },
  {
   "cell_type": "markdown",
   "metadata": {
    "colab_type": "text",
    "id": "Ri4pqDnf8r5D"
   },
   "source": [
    "Let's interpret the tree.\n",
    "\n",
    "1. If `X[0]` (the calories column) is less than 106.5 then the sausage is very likely to be *poultry*. This makes sense since poultry sausages should have a relatively low fat content.\n",
    "2. If `X[0]` (the calories column) is greater than 106.5 then look at `X[1]` (the sodium column). If `X[1]` is less than 512.0 then the sausage is very unlikely to be poultry and slightly more likely to be beef than pork. If `X[1]` is greater than 512.0 then the sausage is probably poultry again.\n",
    "\n",
    "Obviously this tree is completely inadequate. To clearly differentiate between beef and pork we would need a deeper tree. Remember that we limited the tree to only two splits?\n",
    "\n",
    "Despite the shortcomings of this model, let's see how well it performs on the testing data."
   ]
  },
  {
   "cell_type": "code",
   "execution_count": 56,
   "metadata": {
    "colab": {
     "base_uri": "https://localhost:8080/",
     "height": 50
    },
    "colab_type": "code",
    "executionInfo": {
     "elapsed": 6352,
     "status": "ok",
     "timestamp": 1570532248350,
     "user": {
      "displayName": "Andrew Collier",
      "photoUrl": "https://lh3.googleusercontent.com/a-/AAuE7mCvrDr9ggh2JX2LPB-tW5bxoI6EprrLY52Q6BnN=s64",
      "userId": "07683598884238397219"
     },
     "user_tz": -120
    },
    "id": "RrMAEYno7DvO",
    "outputId": "ba038697-8651-4108-8457-e7d9e1542f49"
   },
   "outputs": [
    {
     "data": {
      "text/plain": [
       "array(['beef', 'beef', 'beef', 'poultry', 'beef', 'poultry', 'poultry',\n",
       "       'poultry', 'beef', 'beef', 'poultry'], dtype=object)"
      ]
     },
     "execution_count": 56,
     "metadata": {},
     "output_type": "execute_result"
    }
   ],
   "source": [
    "sausage_tree.predict(X_test)"
   ]
  },
  {
   "cell_type": "code",
   "execution_count": 57,
   "metadata": {
    "colab": {
     "base_uri": "https://localhost:8080/",
     "height": 33
    },
    "colab_type": "code",
    "executionInfo": {
     "elapsed": 6341,
     "status": "ok",
     "timestamp": 1570532248350,
     "user": {
      "displayName": "Andrew Collier",
      "photoUrl": "https://lh3.googleusercontent.com/a-/AAuE7mCvrDr9ggh2JX2LPB-tW5bxoI6EprrLY52Q6BnN=s64",
      "userId": "07683598884238397219"
     },
     "user_tz": -120
    },
    "id": "fL0zxQPM7DvU",
    "outputId": "1f4e5f82-a768-4b78-956b-55ab390b6071"
   },
   "outputs": [
    {
     "data": {
      "text/plain": [
       "0.5454545454545454"
      ]
     },
     "execution_count": 57,
     "metadata": {},
     "output_type": "execute_result"
    }
   ],
   "source": [
    "metrics.accuracy_score(y_test, sausage_tree.predict(X_test))"
   ]
  },
  {
   "cell_type": "markdown",
   "metadata": {
    "colab_type": "text",
    "id": "L_cDxWgIAff3"
   },
   "source": [
    "Not a lot better than simply guessing.\n",
    "\n",
    "Rather than making the model more flexible, let's try to improve it by working with the data."
   ]
  },
  {
   "cell_type": "markdown",
   "metadata": {
    "colab_type": "text",
    "id": "Gj4XjBAOnRCk"
   },
   "source": [
    "### Feature Engineering\n",
    "\n",
    "Suppose we consulted with a sausage expert who told us that the best way to differentiate between sausage types was to look at the ratio of salt to fat.\n",
    "\n",
    "With this in mind we can engineer a new feature."
   ]
  },
  {
   "cell_type": "code",
   "execution_count": 58,
   "metadata": {
    "colab": {},
    "colab_type": "code",
    "id": "LE9xbpYI7YPZ"
   },
   "outputs": [],
   "source": [
    "sausage['salt_per_fat'] = sausage.sodium / sausage.calories"
   ]
  },
  {
   "cell_type": "code",
   "execution_count": 59,
   "metadata": {
    "colab": {
     "base_uri": "https://localhost:8080/",
     "height": 197
    },
    "colab_type": "code",
    "executionInfo": {
     "elapsed": 6323,
     "status": "ok",
     "timestamp": 1570532248351,
     "user": {
      "displayName": "Andrew Collier",
      "photoUrl": "https://lh3.googleusercontent.com/a-/AAuE7mCvrDr9ggh2JX2LPB-tW5bxoI6EprrLY52Q6BnN=s64",
      "userId": "07683598884238397219"
     },
     "user_tz": -120
    },
    "id": "OJn9lxxo5mZu",
    "outputId": "74714257-5d26-48d7-e84d-becb612a0912"
   },
   "outputs": [
    {
     "data": {
      "text/html": [
       "<div>\n",
       "<style scoped>\n",
       "    .dataframe tbody tr th:only-of-type {\n",
       "        vertical-align: middle;\n",
       "    }\n",
       "\n",
       "    .dataframe tbody tr th {\n",
       "        vertical-align: top;\n",
       "    }\n",
       "\n",
       "    .dataframe thead th {\n",
       "        text-align: right;\n",
       "    }\n",
       "</style>\n",
       "<table border=\"1\" class=\"dataframe\">\n",
       "  <thead>\n",
       "    <tr style=\"text-align: right;\">\n",
       "      <th></th>\n",
       "      <th>type</th>\n",
       "      <th>calories</th>\n",
       "      <th>sodium</th>\n",
       "      <th>salt_per_fat</th>\n",
       "    </tr>\n",
       "  </thead>\n",
       "  <tbody>\n",
       "    <tr>\n",
       "      <th>0</th>\n",
       "      <td>beef</td>\n",
       "      <td>186</td>\n",
       "      <td>495</td>\n",
       "      <td>2.661290</td>\n",
       "    </tr>\n",
       "    <tr>\n",
       "      <th>1</th>\n",
       "      <td>beef</td>\n",
       "      <td>181</td>\n",
       "      <td>477</td>\n",
       "      <td>2.635359</td>\n",
       "    </tr>\n",
       "    <tr>\n",
       "      <th>2</th>\n",
       "      <td>beef</td>\n",
       "      <td>176</td>\n",
       "      <td>425</td>\n",
       "      <td>2.414773</td>\n",
       "    </tr>\n",
       "    <tr>\n",
       "      <th>3</th>\n",
       "      <td>beef</td>\n",
       "      <td>149</td>\n",
       "      <td>322</td>\n",
       "      <td>2.161074</td>\n",
       "    </tr>\n",
       "    <tr>\n",
       "      <th>4</th>\n",
       "      <td>beef</td>\n",
       "      <td>184</td>\n",
       "      <td>482</td>\n",
       "      <td>2.619565</td>\n",
       "    </tr>\n",
       "  </tbody>\n",
       "</table>\n",
       "</div>"
      ],
      "text/plain": [
       "   type  calories  sodium  salt_per_fat\n",
       "0  beef       186     495      2.661290\n",
       "1  beef       181     477      2.635359\n",
       "2  beef       176     425      2.414773\n",
       "3  beef       149     322      2.161074\n",
       "4  beef       184     482      2.619565"
      ]
     },
     "execution_count": 59,
     "metadata": {},
     "output_type": "execute_result"
    }
   ],
   "source": [
    "sausage.head()"
   ]
  },
  {
   "cell_type": "markdown",
   "metadata": {
    "colab_type": "text",
    "id": "iH_X2cSgCPg_"
   },
   "source": [
    "Once again split the data into features and labels, then apply a train/test split."
   ]
  },
  {
   "cell_type": "code",
   "execution_count": 60,
   "metadata": {
    "colab": {},
    "colab_type": "code",
    "id": "3Xghwp6u5wec"
   },
   "outputs": [],
   "source": [
    "X = sausage.values[:, 1:4]\n",
    "y = sausage.values[:, 0]\n",
    "\n",
    "X_train, X_test, y_train, y_test = model_selection.train_test_split(X, y, test_size=0.2, random_state=13)"
   ]
  },
  {
   "cell_type": "markdown",
   "metadata": {
    "colab_type": "text",
    "id": "sXjn20RTCUXM"
   },
   "source": [
    "Now build another Decision Tree classifier with the same hyper-parameters as the first. Train it on the augmented data."
   ]
  },
  {
   "cell_type": "code",
   "execution_count": 61,
   "metadata": {
    "colab": {},
    "colab_type": "code",
    "id": "ECPfXSh65wen"
   },
   "outputs": [],
   "source": [
    "sausage_tree= tree.DecisionTreeClassifier(max_depth=2, random_state=17)\n",
    "\n",
    "sausage_tree.fit(X_train, y_train);"
   ]
  },
  {
   "cell_type": "markdown",
   "metadata": {
    "colab_type": "text",
    "id": "NZv3wnMsCrYv"
   },
   "source": [
    "Let's take a look at the tree."
   ]
  },
  {
   "cell_type": "code",
   "execution_count": 70,
   "metadata": {},
   "outputs": [],
   "source": [
    "from sklearn.externals.six import StringIO  \n",
    "from IPython.display import Image  \n",
    "from sklearn.tree import export_graphviz\n",
    "import pydotplus"
   ]
  },
  {
   "cell_type": "code",
   "execution_count": 71,
   "metadata": {},
   "outputs": [],
   "source": [
    "dot_data = StringIO()"
   ]
  },
  {
   "cell_type": "code",
   "execution_count": 72,
   "metadata": {},
   "outputs": [
    {
     "name": "stdout",
     "output_type": "stream",
     "text": [
      "\n",
      "^\n",
      "Expected {'graph' | 'digraph'} (at char 0), (line:1, col:1)\n"
     ]
    },
    {
     "ename": "AttributeError",
     "evalue": "'NoneType' object has no attribute 'create_png'",
     "output_type": "error",
     "traceback": [
      "\u001b[1;31m---------------------------------------------------------------------------\u001b[0m",
      "\u001b[1;31mAttributeError\u001b[0m                            Traceback (most recent call last)",
      "\u001b[1;32m<ipython-input-72-a695b57043d0>\u001b[0m in \u001b[0;36m<module>\u001b[1;34m()\u001b[0m\n\u001b[0;32m      1\u001b[0m \u001b[0mgraph\u001b[0m \u001b[1;33m=\u001b[0m \u001b[0mpydotplus\u001b[0m\u001b[1;33m.\u001b[0m\u001b[0mgraph_from_dot_data\u001b[0m\u001b[1;33m(\u001b[0m\u001b[0mdot_data\u001b[0m\u001b[1;33m.\u001b[0m\u001b[0mgetvalue\u001b[0m\u001b[1;33m(\u001b[0m\u001b[1;33m)\u001b[0m\u001b[1;33m)\u001b[0m\u001b[1;33m\u001b[0m\u001b[0m\n\u001b[1;32m----> 2\u001b[1;33m \u001b[0mImage\u001b[0m\u001b[1;33m(\u001b[0m\u001b[0mgraph\u001b[0m\u001b[1;33m.\u001b[0m\u001b[0mcreate_png\u001b[0m\u001b[1;33m(\u001b[0m\u001b[1;33m)\u001b[0m\u001b[1;33m)\u001b[0m\u001b[1;33m\u001b[0m\u001b[0m\n\u001b[0m",
      "\u001b[1;31mAttributeError\u001b[0m: 'NoneType' object has no attribute 'create_png'"
     ]
    }
   ],
   "source": [
    "graph = pydotplus.graph_from_dot_data(dot_data.getvalue())  \n",
    "Image(graph.create_png())"
   ]
  },
  {
   "cell_type": "markdown",
   "metadata": {
    "colab_type": "text",
    "id": "8GoNsy3VCukB"
   },
   "source": [
    "The classification logic is now as follows:\n",
    "\n",
    "1. if `X[2]` is greater than 3.123 then the sausage is almost certainly poultry;\n",
    "2. otherwise if `X[2]` is greater than 2.426 then the sausage is most likely pork (with around 60% probability); and\n",
    "3. otherwise the sausage is most likely beef.\n",
    "\n",
    "We can see that the model relies exclusively on the newly engineered feature and that we have learned something concise about these three types of sausage: in terms of \"saltiness per fattiness\" the sausages are ranked beef, then pork and finally poultry.\n",
    "\n",
    "How well does this model perform on the testing data?"
   ]
  },
  {
   "cell_type": "code",
   "execution_count": 28,
   "metadata": {
    "colab": {
     "base_uri": "https://localhost:8080/",
     "height": 33
    },
    "colab_type": "code",
    "executionInfo": {
     "elapsed": 6291,
     "status": "ok",
     "timestamp": 1570532248354,
     "user": {
      "displayName": "Andrew Collier",
      "photoUrl": "https://lh3.googleusercontent.com/a-/AAuE7mCvrDr9ggh2JX2LPB-tW5bxoI6EprrLY52Q6BnN=s64",
      "userId": "07683598884238397219"
     },
     "user_tz": -120
    },
    "id": "xn_E-WXv5weu",
    "outputId": "d02bb89b-92ed-49f9-ad34-a5faeaa0d7b0"
   },
   "outputs": [
    {
     "data": {
      "text/plain": [
       "0.6363636363636364"
      ]
     },
     "execution_count": 28,
     "metadata": {},
     "output_type": "execute_result"
    }
   ],
   "source": [
    "metrics.accuracy_score(y_test, sausage_tree.predict(X_test))"
   ]
  },
  {
   "cell_type": "markdown",
   "metadata": {
    "colab_type": "text",
    "id": "LbGeb5hX7etU"
   },
   "source": [
    "It's far from perfect, but we got a nice bump in accuracy. We have not added any new data. Just manipulated the existing data to create an additional feature which is a more powerful predictor than either of the original features.\n",
    "\n",
    "In this instance we have used domain knowledge to engineer a powerful new feature. However, this is not always possible, especially with complex, multidimensional data.\n",
    "\n",
    "Deep Learning is all about: *automatically* building powerful and concise features from very *wide* data."
   ]
  },
  {
   "cell_type": "markdown",
   "metadata": {
    "colab_type": "text",
    "id": "duu2Oassv-wZ"
   },
   "source": [
    "![](https://github.com/datawookie/useful-images/raw/master/banner/banner-lab-tensorflow-keras.png)\n",
    "\n",
    "In this lab you'll test out the effects of feature engineering on a simple classification problem."
   ]
  },
  {
   "cell_type": "code",
   "execution_count": null,
   "metadata": {
    "colab": {},
    "colab_type": "code",
    "id": "zlBMZmk0wAEE"
   },
   "outputs": [],
   "source": []
  }
 ],
 "metadata": {
  "colab": {
   "collapsed_sections": [],
   "name": "03-machine-learning-overview.ipynb",
   "provenance": [],
   "toc_visible": true
  },
  "kernelspec": {
   "display_name": "Python 3",
   "language": "python",
   "name": "python3"
  },
  "language_info": {
   "codemirror_mode": {
    "name": "ipython",
    "version": 3
   },
   "file_extension": ".py",
   "mimetype": "text/x-python",
   "name": "python",
   "nbconvert_exporter": "python",
   "pygments_lexer": "ipython3",
   "version": "3.5.6"
  }
 },
 "nbformat": 4,
 "nbformat_minor": 1
}
