{
 "cells": [
  {
   "cell_type": "markdown",
   "metadata": {
    "colab_type": "text",
    "id": "1uJuH0Rt37og"
   },
   "source": [
    "![](https://github.com/datawookie/useful-images/raw/master/banner/banner-lab-tensorflow-keras.png)\n",
    "\n",
    "# Machine Learning Overview"
   ]
  },
  {
   "cell_type": "markdown",
   "metadata": {
    "colab_type": "text",
    "id": "ClRgAosTMLSG"
   },
   "source": [
    "## Part 1: Feature Engineering\n",
    "\n",
    "You'll create a Decision Tree model to classify points into one of two classes. You'll engineer a new feature to make this process more efficient."
   ]
  },
  {
   "cell_type": "code",
   "execution_count": null,
   "metadata": {
    "colab": {},
    "colab_type": "code",
    "id": "Qw8I2myqG_Le"
   },
   "outputs": [],
   "source": [
    "from sklearn import datasets, tree, metrics, model_selection\n",
    "import numpy as np\n",
    "import matplotlib.pyplot as plt\n",
    "\n",
    "np.random.seed(17)"
   ]
  },
  {
   "cell_type": "markdown",
   "metadata": {
    "colab_type": "text",
    "id": "DY5lt-gsHi9f"
   },
   "source": [
    "Create some data."
   ]
  },
  {
   "cell_type": "code",
   "execution_count": null,
   "metadata": {
    "colab": {},
    "colab_type": "code",
    "id": "ft5dtBiB3jPr"
   },
   "outputs": [],
   "source": [
    "SAMPLES = 1500\n",
    "\n",
    "X, y = datasets.make_circles(n_samples=SAMPLES, factor=0.5, noise=0.1)"
   ]
  },
  {
   "cell_type": "markdown",
   "metadata": {
    "colab_type": "text",
    "id": "s8Z0jv2uHlHj"
   },
   "source": [
    "Visualise the data."
   ]
  },
  {
   "cell_type": "code",
   "execution_count": null,
   "metadata": {
    "colab": {
     "base_uri": "https://localhost:8080/",
     "height": 268
    },
    "colab_type": "code",
    "executionInfo": {
     "elapsed": 2280,
     "status": "ok",
     "timestamp": 1570533179668,
     "user": {
      "displayName": "Andrew Collier",
      "photoUrl": "https://lh3.googleusercontent.com/a-/AAuE7mCvrDr9ggh2JX2LPB-tW5bxoI6EprrLY52Q6BnN=s64",
      "userId": "07683598884238397219"
     },
     "user_tz": -120
    },
    "id": "H3TVjMiQG7-5",
    "outputId": "0be109fb-9069-485c-f060-fe56b6ebe699"
   },
   "outputs": [],
   "source": [
    "plt.scatter(X[:, 0], X[:, 1], s=10, color=[{0: '#377eb8', 1: '#ff7f00'}[k] for k in y])\n",
    "plt.show()"
   ]
  },
  {
   "cell_type": "markdown",
   "metadata": {
    "colab_type": "text",
    "id": "mNlPcCPfHm4w"
   },
   "source": [
    "We'll use those data to build a Decision Tree.\n",
    "\n",
    "**Exercises**\n",
    "\n",
    "1. Split the data into training and testing sets in a 80:20 proportion. Specify a value for the `random_state` parameter.\n",
    "2. Create a `DecisionTreeClassifier` object with `max_depth=3`. Do not place any restrictions on the tree depth.\n",
    "3. Fit the model to the training data.\n",
    "4. Visualise the tree.\n",
    "5. How deep is the tree? *Hint:* Use the `get_depth()` method.\n",
    "6. What's the accuracy of the model on the testing data?\n",
    "7. Add one or more new features to the data. *Hint:* There's one feature which would work rather well. Think about the Pythagorean Theorem.\n",
    "8. Split the data again into training and testing sets. Use the same random seed for consistency.\n",
    "9. Fit a new `DecisionTreeClassifier` object to the data. Use `max_depth=3` again.\n",
    "10. What happened to the accuracy on the testing set?"
   ]
  },
  {
   "cell_type": "code",
   "execution_count": null,
   "metadata": {
    "colab": {},
    "colab_type": "code",
    "id": "C59yBnrvG8CF",
    "tags": [
     "exercise"
    ]
   },
   "outputs": [],
   "source": [
    "# ------------------------------------------------------------------------------\n",
    "#\n",
    "# Your code goes here.\n",
    "#\n",
    "# ------------------------------------------------------------------------------"
   ]
  },
  {
   "cell_type": "code",
   "execution_count": null,
   "metadata": {
    "colab": {},
    "colab_type": "code",
    "id": "BosCzF_qK2d4"
   },
   "outputs": [],
   "source": []
  }
 ],
 "metadata": {
  "colab": {
   "collapsed_sections": [],
   "name": "03-lab-machine-learning-overview.ipynb",
   "provenance": [],
   "toc_visible": true
  },
  "kernelspec": {
   "display_name": "Python 3",
   "language": "python",
   "name": "python3"
  },
  "language_info": {
   "codemirror_mode": {
    "name": "ipython",
    "version": 3
   },
   "file_extension": ".py",
   "mimetype": "text/x-python",
   "name": "python",
   "nbconvert_exporter": "python",
   "pygments_lexer": "ipython3",
   "version": "3.5.6"
  }
 },
 "nbformat": 4,
 "nbformat_minor": 1
}
