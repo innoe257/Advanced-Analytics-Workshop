{
 "cells": [
  {
   "cell_type": "markdown",
   "metadata": {
    "colab_type": "text",
    "id": "VE6A-JGQhUh6"
   },
   "source": [
    "![](https://github.com/datawookie/useful-images/raw/master/banner/banner-lab-tensorflow-keras.png)\n",
    "\n",
    "# Google Colab"
   ]
  },
  {
   "cell_type": "markdown",
   "metadata": {
    "colab_type": "text",
    "id": "fzPVtb7RwPZY"
   },
   "source": [
    "## Part 1: Packages & Code\n",
    "\n",
    "**Exercises**\n",
    "\n",
    "1. Use `pip` to install the `pycountry` package. Check that you can import the package. *Hint:* You'll need to start the command with `!`. Then use `pip install` followed by the package name.\n",
    "2. Use `git` to clone the [datasets/country-codes](https://github.com/datasets/country-codes) repository. *Hint:* Got to the repository and get the HTTPS clone URL. Run `git clone` followed by the URL.\n",
    "3. What country is listed first in the file `country-codes/data/country-codes.csv`? *Hint:* You can use the `head` shell command to view the top of this file."
   ]
  },
  {
   "cell_type": "code",
   "execution_count": null,
   "metadata": {
    "colab": {},
    "colab_type": "code",
    "id": "SsP4Oi4j2_UK",
    "tags": [
     "exercise"
    ]
   },
   "outputs": [],
   "source": [
    "# ------------------------------------------------------------------------------\n",
    "#\n",
    "# Your code goes here.\n",
    "#\n",
    "# ------------------------------------------------------------------------------"
   ]
  },
  {
   "cell_type": "code",
   "execution_count": null,
   "metadata": {
    "colab": {},
    "colab_type": "code",
    "id": "WI3a1sFKxQ0H"
   },
   "outputs": [],
   "source": []
  }
 ],
 "metadata": {
  "colab": {
   "collapsed_sections": [],
   "name": "02-lab-google-colab.ipynb",
   "provenance": []
  },
  "kernelspec": {
   "display_name": "Python 3",
   "language": "python",
   "name": "python3"
  },
  "language_info": {
   "codemirror_mode": {
    "name": "ipython",
    "version": 3
   },
   "file_extension": ".py",
   "mimetype": "text/x-python",
   "name": "python",
   "nbconvert_exporter": "python",
   "pygments_lexer": "ipython3",
   "version": "3.5.6"
  }
 },
 "nbformat": 4,
 "nbformat_minor": 1
}
