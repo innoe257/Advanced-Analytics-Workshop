{
 "cells": [
  {
   "cell_type": "markdown",
   "metadata": {
    "colab_type": "text",
    "id": "VE6A-JGQhUh6"
   },
   "source": [
    "![](https://github.com/datawookie/useful-images/raw/master/banner/banner-lab-tensorflow-keras.png)\n",
    "\n",
    "# Google Colab"
   ]
  },
  {
   "cell_type": "markdown",
   "metadata": {
    "colab_type": "text",
    "id": "fzPVtb7RwPZY"
   },
   "source": [
    "## Part 1: Packages & Code\n",
    "\n",
    "**Exercises**\n",
    "\n",
    "1. Use `pip` to install the `pycountry` package. Check that you can import the package. *Hint:* You'll need to start the command with `!`. Then use `pip install` followed by the package name.\n",
    "2. Use `git` to clone the [datasets/country-codes](https://github.com/datasets/country-codes) repository. *Hint:* Got to the repository and get the HTTPS clone URL. Run `git clone` followed by the URL.\n",
    "3. What country is listed first in the file `country-codes/data/country-codes.csv`? *Hint:* You can use the `head` shell command to view the top of this file."
   ]
  },
  {
   "cell_type": "code",
   "execution_count": null,
   "metadata": {
    "colab": {},
    "colab_type": "code",
    "id": "SsP4Oi4j2_UK",
    "tags": [
     "exercise"
    ]
   },
   "outputs": [],
   "source": [
    "# ------------------------------------------------------------------------------\n",
    "#\n",
    "# Your code goes here.\n",
    "#\n",
    "# ------------------------------------------------------------------------------"
   ]
  },
  {
   "cell_type": "code",
   "execution_count": 1,
   "metadata": {
    "colab": {
     "base_uri": "https://localhost:8080/",
     "height": 183
    },
    "colab_type": "code",
    "executionInfo": {
     "elapsed": 13273,
     "status": "ok",
     "timestamp": 1570529455284,
     "user": {
      "displayName": "Andrew Collier",
      "photoUrl": "https://lh3.googleusercontent.com/a-/AAuE7mCvrDr9ggh2JX2LPB-tW5bxoI6EprrLY52Q6BnN=s64",
      "userId": "07683598884238397219"
     },
     "user_tz": -120
    },
    "id": "aD5bGaoBhSpK",
    "outputId": "74226af2-63c5-42c6-b77f-82aa19734515",
    "tags": [
     "exercise",
     "solution"
    ]
   },
   "outputs": [
    {
     "name": "stdout",
     "output_type": "stream",
     "text": [
      "Collecting pycountry\n",
      "  Downloading https://files.pythonhosted.org/packages/16/b6/154fe93072051d8ce7bf197690957b6d0ac9a21d51c9a1d05bd7c6fdb16f/pycountry-19.8.18.tar.gz (10.0MB)\n",
      "Building wheels for collected packages: pycountry\n",
      "  Building wheel for pycountry (setup.py): started\n",
      "  Building wheel for pycountry (setup.py): finished with status 'done'\n",
      "  Stored in directory: C:\\Users\\a0019865\\AppData\\Local\\pip\\Cache\\wheels\\a2\\98\\bf\\f0fa1c6bf8cf2cbdb750d583f84be51c2cd8272460b8b36bd3\n",
      "Successfully built pycountry\n",
      "Installing collected packages: pycountry\n",
      "Successfully installed pycountry-19.8.18\n"
     ]
    },
    {
     "name": "stderr",
     "output_type": "stream",
     "text": [
      "You are using pip version 19.0.3, however version 19.3.1 is available.\n",
      "You should consider upgrading via the 'python -m pip install --upgrade pip' command.\n"
     ]
    }
   ],
   "source": [
    "!pip install pycountry\n",
    "\n",
    "import pycountry"
   ]
  },
  {
   "cell_type": "code",
   "execution_count": 2,
   "metadata": {
    "colab": {
     "base_uri": "https://localhost:8080/",
     "height": 100
    },
    "colab_type": "code",
    "executionInfo": {
     "elapsed": 16425,
     "status": "ok",
     "timestamp": 1570529458454,
     "user": {
      "displayName": "Andrew Collier",
      "photoUrl": "https://lh3.googleusercontent.com/a-/AAuE7mCvrDr9ggh2JX2LPB-tW5bxoI6EprrLY52Q6BnN=s64",
      "userId": "07683598884238397219"
     },
     "user_tz": -120
    },
    "id": "D70-zDTHvX3R",
    "outputId": "ba0ce1a0-11fc-4366-9e13-18257422cfd1",
    "tags": [
     "exercise",
     "solution"
    ]
   },
   "outputs": [
    {
     "name": "stderr",
     "output_type": "stream",
     "text": [
      "Cloning into 'country-codes'...\n"
     ]
    }
   ],
   "source": [
    "!git clone https://github.com/datasets/country-codes.git"
   ]
  },
  {
   "cell_type": "code",
   "execution_count": 3,
   "metadata": {
    "colab": {
     "base_uri": "https://localhost:8080/",
     "height": 203
    },
    "colab_type": "code",
    "executionInfo": {
     "elapsed": 19149,
     "status": "ok",
     "timestamp": 1570529461184,
     "user": {
      "displayName": "Andrew Collier",
      "photoUrl": "https://lh3.googleusercontent.com/a-/AAuE7mCvrDr9ggh2JX2LPB-tW5bxoI6EprrLY52Q6BnN=s64",
      "userId": "07683598884238397219"
     },
     "user_tz": -120
    },
    "id": "7HN27QV8vdqm",
    "outputId": "4beb1d5a-d4ee-4d9d-b8b9-7de344abdfc8",
    "tags": [
     "exercise",
     "solution"
    ]
   },
   "outputs": [
    {
     "name": "stdout",
     "output_type": "stream",
     "text": [
      "FIFA,Dial,ISO3166-1-Alpha-3,MARC,is_independent,ISO3166-1-numeric,GAUL,FIPS,WMO,ISO3166-1-Alpha-2,ITU,IOC,DS,UNTERM Spanish Formal,Global Code,Intermediate Region Code,official_name_fr,UNTERM French Short,ISO4217-currency_name,Developed / Developing Countries,UNTERM Russian Formal,UNTERM English Short,ISO4217-currency_alphabetic_code,Small Island Developing States (SIDS),UNTERM Spanish Short,ISO4217-currency_numeric_code,UNTERM Chinese Formal,UNTERM French Formal,UNTERM Russian Short,M49,Sub-region Code,Region Code,official_name_ar,ISO4217-currency_minor_unit,UNTERM Arabic Formal,UNTERM Chinese Short,Land Locked Developing Countries (LLDC),Intermediate Region Name,official_name_es,UNTERM English Formal,official_name_cn,official_name_en,ISO4217-currency_country_name,Least Developed Countries (LDC),Region Name,UNTERM Arabic Short,Sub-region Name,official_name_ru,Global Name,Capital,Continent,TLD,Languages,Geoname ID,CLDR display name,EDGAR\n",
      "TPE,886,TWN,ch,Yes,158,925,TW,Â ,TW,Â ,TPE,RC,,,,,,,,,,,,,,,,,,,,,,,,,,,,,,,,,,,,,Taipei,AS,.tw,\"zh-TW,zh,nan,hak\",1668284,Taiwan,\n",
      "AFG,93,AFG,af,Yes,004,1,AF,AF,AF,AFG,AFG,AFG,RepÃºblica IslÃ¡mica del AfganistÃ¡n (la),True,,Afghanistan,Afghanistan (l') [masc.],Afghani,Developing,Ð˜Ñ�Ð»Ð°Ð¼Ñ�ÐºÐ°Ñ� Ð ÐµÑ�Ð¿ÑƒÐ±Ð»Ð¸ÐºÐ° Ð�Ñ„Ð³Ð°Ð½Ð¸Ñ�Ñ‚Ð°Ð½,Afghanistan,AFN,,AfganistÃ¡n (el),971,é˜¿å¯Œæ±—ä¼Šæ–¯å…°å…±å’Œå›½,RÃ©publique islamique d'Afghanistan,Ð�Ñ„Ð³Ð°Ð½Ð¸Ñ�Ñ‚Ð°Ð½,004,34,142,Ø£Ù�ØºØ§Ù†Ø³ØªØ§Ù†,2,Ø¬Ù…Ù‡ÙˆØ±ÙŠØ© Ø£Ù�ØºØ§Ù†Ø³ØªØ§Ù† Ø§Ù„Ø¥Ø³Ù„Ø§Ù…ÙŠØ©,é˜¿å¯Œæ±—,x,,AfganistÃ¡n,the Islamic Republic of Afghanistan,é˜¿å¯Œæ±—,Afghanistan,AFGHANISTAN,x,Asia,Ø£Ù�ØºØ§Ù†Ø³ØªØ§Ù†,Southern Asia,Ð�Ñ„Ð³Ð°Ð½Ð¸Ñ�Ñ‚Ð°Ð½,World,Kabul,AS,.af,\"fa-AF,ps,uz-AF,tk\",1149361,Afghanistan,B2\n",
      "ALB,355,ALB,aa,Yes,008,3,AL,AB,AL,ALB,ALB,AL,la RepÃºblica de Albania,True,,Albanie,Albanie (l') [fÃ©m.],Lek,Developed,Ð ÐµÑ�Ð¿ÑƒÐ±Ð»Ð¸ÐºÐ° Ð�Ð»Ð±Ð°Ð½Ð¸Ñ�,Albania,ALL,,Albania,008,é˜¿å°”å·´å°¼äºšå…±å’Œå›½,la RÃ©publique d'Albanie,Ð�Ð»Ð±Ð°Ð½Ð¸Ñ�,008,39,150,Ø£Ù„Ø¨Ø§Ù†ÙŠØ§,2,Ø¬Ù…Ù‡ÙˆØ±ÙŠØ© Ø£Ù„Ø¨Ø§Ù†ÙŠØ§,é˜¿å°”å·´å°¼äºš,,,Albania,the Republic of Albania,é˜¿å°”å·´å°¼äºš,Albania,ALBANIA,,Europe,Ø£Ù„Ø¨Ø§Ù†ÙŠØ§,Southern Europe,Ð�Ð»Ð±Ð°Ð½Ð¸Ñ�,World,Tirana,EU,.al,\"sq,el\",783754,Albania,B3\n",
      "ALG,213,DZA,ae,Yes,012,4,AG,AL,DZ,ALG,ALG,DZ,la RepÃºblica Argelina DemocrÃ¡tica y Popular,True,,AlgÃ©rie,AlgÃ©rie (l') [fÃ©m.],Algerian Dinar,Developing,Ð�Ð»Ð¶Ð¸Ñ€Ñ�ÐºÐ°Ñ� Ð�Ð°Ñ€Ð¾Ð´Ð½Ð°Ñ� Ð”ÐµÐ¼Ð¾ÐºÑ€Ð°Ñ‚Ð¸Ñ‡ÐµÑ�ÐºÐ°Ñ� Ð ÐµÑ�Ð¿ÑƒÐ±Ð»Ð¸ÐºÐ°,Algeria,DZD,,Argelia,012,é˜¿å°”å�Šåˆ©äºšæ°‘ä¸»äººæ°‘å…±å’Œå›½,la RÃ©publique algÃ©rienne dÃ©mocratique et populaire,Ð�Ð»Ð¶Ð¸Ñ€,012,15,2,Ø§Ù„Ø¬Ø²Ø§Ø¦Ø±,2,Ø§Ù„Ø¬Ù…Ù‡ÙˆØ±ÙŠØ© Ø§Ù„Ø¬Ø²Ø§Ø¦Ø±ÙŠØ© Ø§Ù„Ø¯ÙŠÙ…Ù‚Ø±Ø§Ø·ÙŠØ© Ø§Ù„Ø´Ø¹Ø¨ÙŠØ©,é˜¿å°”å�Šåˆ©äºš,,,Argelia,the People's Democratic Republic of Algeria,é˜¿å°”å�Šåˆ©äºš,Algeria,ALGERIA,,Africa,Ø§Ù„Ø¬Ø²Ø§Ø¦Ø±,Northern Africa,Ð�Ð»Ð¶Ð¸Ñ€,World,Algiers,AF,.dz,ar-DZ,2589581,Algeria,B4\n",
      "ASA,1-684,ASM,as,Territory of US,016,5,AQ,Â ,AS,SMA,ASA,USA,,True,,Samoa amÃ©ricaines,,US Dollar,Developing,,,USD,x,,840,,,,016,61,9,Ø³Ø§Ù…ÙˆØ§ Ø§Ù„Ø£Ù…Ø±ÙŠÙƒÙŠØ©,2,,,,,Samoa Americana,,ç¾Žå±žè�¨æ‘©äºš,American Samoa,AMERICAN SAMOA,,Oceania,,Polynesia,Ð�Ð¼ÐµÑ€Ð¸ÐºÐ°Ð½Ñ�ÐºÐ¾Ðµ Ð¡Ð°Ð¼Ð¾Ð°,World,Pago Pago,OC,.as,\"en-AS,sm,to\",5880801,American Samoa,B5\n",
      "AND,376,AND,an,Yes,020,7,AN,Â ,AD,AND,AND,AND,el Principado de Andorra,True,,Andorre,Andorre (l') [fÃ©m.],Euro,Developed,ÐšÐ½Ñ�Ð¶ÐµÑ�Ñ‚Ð²Ð¾ Ð�Ð½Ð´Ð¾Ñ€Ñ€Ð°,Andorra,EUR,,Andorra,978,å®‰é�“å°”å…¬å›½,la PrincipautÃ© d'Andorre,Ð�Ð½Ð´Ð¾Ñ€Ñ€Ð°,020,39,150,Ø£Ù†Ø¯ÙˆØ±Ø§,2,Ø¥Ù…Ø§Ø±Ø© Ø£Ù†Ø¯ÙˆØ±Ø§,å®‰é�“å°”,,,Andorra,the Principality of Andorra,å®‰é�“å°”,Andorra,ANDORRA,,Europe,Ø£Ù†Ø¯ÙˆØ±Ø§,Southern Europe,Ð�Ð½Ð´Ð¾Ñ€Ñ€Ð°,World,Andorra la Vella,EU,.ad,ca,3041565,Andorra,B6\n",
      "ANG,244,AGO,ao,Yes,024,8,AO,AN,AO,AGL,ANG,AO,la RepÃºblica de Angola,True,17,Angola,Angola (l') [masc.],Kwanza,Developing,Ð ÐµÑ�Ð¿ÑƒÐ±Ð»Ð¸ÐºÐ° Ð�Ð½Ð³Ð¾Ð»Ð°,Angola,AOA,,Angola,973,å®‰å“¥æ‹‰å…±å’Œå›½,la RÃ©publique d'Angola,Ð�Ð½Ð³Ð¾Ð»Ð°,024,202,2,Ø£Ù†ØºÙˆÙ„Ø§,2,Ø¬Ù…Ù‡ÙˆØ±ÙŠØ© Ø£Ù†ØºÙˆÙ„Ø§,å®‰å“¥æ‹‰,,Middle Africa,Angola,the Republic of Angola,å®‰å“¥æ‹‰,Angola,ANGOLA,x,Africa,Ø£Ù†ØºÙˆÙ„Ø§,Sub-Saharan Africa,Ð�Ð½Ð³Ð¾Ð»Ð°,World,Luanda,AF,.ao,pt-AO,3351879,Angola,B7\n",
      "AIA,1-264,AIA,am,Territory of GB,660,9,AV,Â ,AI,AIA,AIA,Â ,,True,29,Anguilla,,East Caribbean Dollar,Developing,,,XCD,x,,951,,,,660,419,19,Ø£Ù†ØºÙŠÙ„Ø§,2,,,,Caribbean,Anguila,,å®‰åœ­æ‹‰,Anguilla,ANGUILLA,,Americas,,Latin America and the Caribbean,Ð�Ð½Ð³Ð¸Ð»ÑŒÑ�,World,The Valley,NA,.ai,en-AI,3573511,Anguilla,1A\n",
      "ROS,672,ATA,ay,International,010,10,AY,AA,AQ,Â ,Â ,Â ,,True,,Antarctique,,No universal currency,,,,,,,,,,,010,,,Ø£Ù†ØªØ§Ø±ÙƒØªÙŠÙƒØ§,,,,,,AntÃ¡rtida,,å�—æž�æ´²,Antarctica,ANTARCTICA,,,,,Ð�Ð½Ñ‚Ð°Ñ€ÐºÑ‚Ð¸ÐºÐµ,World,,AN,.aq,,6697173,Antarctica,B8\n"
     ]
    }
   ],
   "source": [
    "!head country-codes/data/country-codes.csv"
   ]
  },
  {
   "cell_type": "code",
   "execution_count": null,
   "metadata": {
    "colab": {},
    "colab_type": "code",
    "id": "WI3a1sFKxQ0H"
   },
   "outputs": [],
   "source": []
  }
 ],
 "metadata": {
  "celltoolbar": "Tags",
  "colab": {
   "collapsed_sections": [],
   "name": "02-lab-google-colab.ipynb",
   "provenance": []
  },
  "kernelspec": {
   "display_name": "Python 3",
   "language": "python",
   "name": "python3"
  },
  "language_info": {
   "codemirror_mode": {
    "name": "ipython",
    "version": 3
   },
   "file_extension": ".py",
   "mimetype": "text/x-python",
   "name": "python",
   "nbconvert_exporter": "python",
   "pygments_lexer": "ipython3",
   "version": "3.5.6"
  }
 },
 "nbformat": 4,
 "nbformat_minor": 1
}
